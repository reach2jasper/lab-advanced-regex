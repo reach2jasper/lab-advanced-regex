{
 "cells": [
  {
   "cell_type": "markdown",
   "metadata": {},
   "source": [
    "# Advanced Regular Expressions Lab\n",
    "\n",
    "Complete the following set of exercises to solidify your knowledge of regular expressions."
   ]
  },
  {
   "cell_type": "code",
   "execution_count": 2,
   "metadata": {},
   "outputs": [],
   "source": [
    "import re"
   ]
  },
  {
   "cell_type": "markdown",
   "metadata": {},
   "source": [
    "### 1. Use a regular expression to find and extract all vowels in the following text."
   ]
  },
  {
   "cell_type": "code",
   "execution_count": 4,
   "metadata": {},
   "outputs": [],
   "source": [
    "text = \"This is going to be a sentence with a good number of vowels in it.\""
   ]
  },
  {
   "cell_type": "code",
   "execution_count": 6,
   "metadata": {},
   "outputs": [
    {
     "data": {
      "text/plain": [
       "['vowels']"
      ]
     },
     "execution_count": 6,
     "metadata": {},
     "output_type": "execute_result"
    }
   ],
   "source": [
    "pattern = 'vowels'\n",
    "re.findall(pattern, text)"
   ]
  },
  {
   "cell_type": "markdown",
   "metadata": {},
   "source": [
    "### 2. Use a regular expression to find and extract all occurrences and tenses (singular and plural) of the word \"puppy\" in the text below."
   ]
  },
  {
   "cell_type": "code",
   "execution_count": 35,
   "metadata": {},
   "outputs": [],
   "source": [
    "text = \"The puppy saw all the rest of the puppies playing and wanted to join them. I saw this and wanted a puppy of my own!\""
   ]
  },
  {
   "cell_type": "code",
   "execution_count": 37,
   "metadata": {},
   "outputs": [
    {
     "data": {
      "text/plain": [
       "['puppy ', ' puppies', 'puppy ']"
      ]
     },
     "execution_count": 37,
     "metadata": {},
     "output_type": "execute_result"
    }
   ],
   "source": [
    "pattern = \"puppy | puppies\"\n",
    "re.findall(pattern, text)"
   ]
  },
  {
   "cell_type": "markdown",
   "metadata": {},
   "source": [
    "### 3. Use a regular expression to find and extract all tenses (present and past) of the word \"run\" in the text below."
   ]
  },
  {
   "cell_type": "code",
   "execution_count": 32,
   "metadata": {},
   "outputs": [],
   "source": [
    "text = \"I ran the relay race the only way I knew how to run it.\""
   ]
  },
  {
   "cell_type": "code",
   "execution_count": 33,
   "metadata": {},
   "outputs": [
    {
     "data": {
      "text/plain": [
       "['ran', 'run']"
      ]
     },
     "execution_count": 33,
     "metadata": {},
     "output_type": "execute_result"
    }
   ],
   "source": [
    "pattern = \"run|ran\"\n",
    "re.findall(pattern, text)"
   ]
  },
  {
   "cell_type": "markdown",
   "metadata": {},
   "source": [
    "### 4. Use a regular expression to find and extract all words that begin with the letter \"r\" from the previous text."
   ]
  },
  {
   "cell_type": "code",
   "execution_count": 23,
   "metadata": {},
   "outputs": [
    {
     "data": {
      "text/plain": [
       "['ran', 'relay', 'race', 'run']"
      ]
     },
     "execution_count": 23,
     "metadata": {},
     "output_type": "execute_result"
    }
   ],
   "source": [
    "pattern = \"r[a-z]+\"\n",
    "re.findall(pattern, text)"
   ]
  },
  {
   "cell_type": "markdown",
   "metadata": {},
   "source": [
    "### 5. Use a regular expression to find and substitute the letter \"i\" for the exclamation marks in the text below."
   ]
  },
  {
   "cell_type": "code",
   "execution_count": null,
   "metadata": {},
   "outputs": [],
   "source": [
    "text = \"Th!s !s a sentence w!th spec!al characters !n !t.\""
   ]
  },
  {
   "cell_type": "code",
   "execution_count": 30,
   "metadata": {},
   "outputs": [
    {
     "name": "stdout",
     "output_type": "stream",
     "text": [
      "I bet the robot couldn't beat the other bot with a bat, but instead it bit me.\n"
     ]
    }
   ],
   "source": [
    "new_text = re.sub(r'!', 'i', text)\n",
    "print(new_text)"
   ]
  },
  {
   "cell_type": "markdown",
   "metadata": {},
   "source": [
    "### 6. Use a regular expression to find and extract words longer than 4 characters in the text below."
   ]
  },
  {
   "cell_type": "code",
   "execution_count": 25,
   "metadata": {},
   "outputs": [],
   "source": [
    "text = \"This sentence has words of varying lengths.\""
   ]
  },
  {
   "cell_type": "code",
   "execution_count": 26,
   "metadata": {},
   "outputs": [
    {
     "data": {
      "text/plain": [
       "['sentence', 'words', 'varying', 'lengths']"
      ]
     },
     "execution_count": 26,
     "metadata": {},
     "output_type": "execute_result"
    }
   ],
   "source": [
    "pattern = '[\\w]{5,}'\n",
    "re.findall(pattern, text)"
   ]
  },
  {
   "cell_type": "markdown",
   "metadata": {},
   "source": [
    "### 7. Use a regular expression to find and extract all occurrences of the letter \"b\", some letter(s), and then the letter \"t\" in the sentence below."
   ]
  },
  {
   "cell_type": "code",
   "execution_count": 28,
   "metadata": {},
   "outputs": [],
   "source": [
    "text = \"I bet the robot couldn't beat the other bot with a bat, but instead it bit me.\""
   ]
  },
  {
   "cell_type": "code",
   "execution_count": 29,
   "metadata": {},
   "outputs": [
    {
     "data": {
      "text/plain": [
       "['bet', 'bot', 'beat', 'bot', 'bat', 'but', 'bit']"
      ]
     },
     "execution_count": 29,
     "metadata": {},
     "output_type": "execute_result"
    }
   ],
   "source": [
    "pattern = 'b[\\w]+t'\n",
    "re.findall(pattern, text)"
   ]
  },
  {
   "cell_type": "markdown",
   "metadata": {},
   "source": [
    "### 8. Use a regular expression to find and extract all words that contain either \"ea\" or \"eo\" in them."
   ]
  },
  {
   "cell_type": "code",
   "execution_count": 45,
   "metadata": {},
   "outputs": [],
   "source": [
    "text = \"During many of the peaks and troughs of history, the people living it didn't fully realize what was unfolding. But we all know we're navigating breathtaking history: Nearly every day could be — maybe will be — a book.\"\n"
   ]
  },
  {
   "cell_type": "code",
   "execution_count": 46,
   "metadata": {},
   "outputs": [
    {
     "data": {
      "text/plain": [
       "['ea', 'eo', 'ea', 'ea', 'ea']"
      ]
     },
     "execution_count": 46,
     "metadata": {},
     "output_type": "execute_result"
    }
   ],
   "source": [
    "pattern = '\\w*(ea|eo)\\w*'\n",
    "re.findall(pattern, text)"
   ]
  },
  {
   "cell_type": "markdown",
   "metadata": {},
   "source": [
    "### 9. Use a regular expression to find and extract all the capitalized words in the text below individually."
   ]
  },
  {
   "cell_type": "code",
   "execution_count": 48,
   "metadata": {},
   "outputs": [],
   "source": [
    "text = \"Teddy Roosevelt and Abraham Lincoln walk into a bar.\""
   ]
  },
  {
   "cell_type": "code",
   "execution_count": 42,
   "metadata": {},
   "outputs": [
    {
     "data": {
      "text/plain": [
       "['Teddy', 'Roosevelt', 'Abraham', 'Lincoln']"
      ]
     },
     "execution_count": 42,
     "metadata": {},
     "output_type": "execute_result"
    }
   ],
   "source": [
    "pattern = '[A-Z][a-z]*'\n",
    "re.findall(pattern, text)"
   ]
  },
  {
   "cell_type": "markdown",
   "metadata": {},
   "source": [
    "### 10. Use a regular expression to find and extract all the sets of consecutive capitalized words in the text above."
   ]
  },
  {
   "cell_type": "code",
   "execution_count": 49,
   "metadata": {},
   "outputs": [
    {
     "data": {
      "text/plain": [
       "['Teddy Roosevelt', 'Abraham Lincoln']"
      ]
     },
     "execution_count": 49,
     "metadata": {},
     "output_type": "execute_result"
    }
   ],
   "source": [
    "pattern='[A-Z][a-z]*(?:\\s+[A-Z][a-z]*)+'\n",
    "re.findall(pattern, text)"
   ]
  },
  {
   "cell_type": "markdown",
   "metadata": {},
   "source": [
    "### 11. Use a regular expression to find and extract all the quotes from the text below.\n",
    "\n",
    "*Hint: This one is a little more complex than the single quote example in the lesson because there are multiple quotes in the text.*"
   ]
  },
  {
   "cell_type": "code",
   "execution_count": 50,
   "metadata": {},
   "outputs": [],
   "source": [
    "text = 'Roosevelt says to Lincoln, \"I will bet you $50 I can get the bartender to give me a free drink.\" Lincoln says, \"I am in!\"'\n"
   ]
  },
  {
   "cell_type": "code",
   "execution_count": 54,
   "metadata": {},
   "outputs": [
    {
     "data": {
      "text/plain": [
       "['',\n",
       " 'R',\n",
       " '',\n",
       " 'o',\n",
       " '',\n",
       " 'o',\n",
       " '',\n",
       " 's',\n",
       " '',\n",
       " 'e',\n",
       " '',\n",
       " 'v',\n",
       " '',\n",
       " 'e',\n",
       " '',\n",
       " 'l',\n",
       " '',\n",
       " 't',\n",
       " '',\n",
       " ' ',\n",
       " '',\n",
       " 's',\n",
       " '',\n",
       " 'a',\n",
       " '',\n",
       " 'y',\n",
       " '',\n",
       " 's',\n",
       " '',\n",
       " ' ',\n",
       " '',\n",
       " 't',\n",
       " '',\n",
       " 'o',\n",
       " '',\n",
       " ' ',\n",
       " '',\n",
       " 'L',\n",
       " '',\n",
       " 'i',\n",
       " '',\n",
       " 'n',\n",
       " '',\n",
       " 'c',\n",
       " '',\n",
       " 'o',\n",
       " '',\n",
       " 'l',\n",
       " '',\n",
       " 'n',\n",
       " '',\n",
       " ',',\n",
       " '',\n",
       " ' ',\n",
       " '',\n",
       " '\"',\n",
       " '',\n",
       " 'I',\n",
       " '',\n",
       " ' ',\n",
       " '',\n",
       " 'w',\n",
       " '',\n",
       " 'i',\n",
       " '',\n",
       " 'l',\n",
       " '',\n",
       " 'l',\n",
       " '',\n",
       " ' ',\n",
       " '',\n",
       " 'b',\n",
       " '',\n",
       " 'e',\n",
       " '',\n",
       " 't',\n",
       " '',\n",
       " ' ',\n",
       " '',\n",
       " 'y',\n",
       " '',\n",
       " 'o',\n",
       " '',\n",
       " 'u',\n",
       " '',\n",
       " ' ',\n",
       " '',\n",
       " '$',\n",
       " '',\n",
       " '5',\n",
       " '',\n",
       " '0',\n",
       " '',\n",
       " ' ',\n",
       " '',\n",
       " 'I',\n",
       " '',\n",
       " ' ',\n",
       " '',\n",
       " 'c',\n",
       " '',\n",
       " 'a',\n",
       " '',\n",
       " 'n',\n",
       " '',\n",
       " ' ',\n",
       " '',\n",
       " 'g',\n",
       " '',\n",
       " 'e',\n",
       " '',\n",
       " 't',\n",
       " '',\n",
       " ' ',\n",
       " '',\n",
       " 't',\n",
       " '',\n",
       " 'h',\n",
       " '',\n",
       " 'e',\n",
       " '',\n",
       " ' ',\n",
       " '',\n",
       " 'b',\n",
       " '',\n",
       " 'a',\n",
       " '',\n",
       " 'r',\n",
       " '',\n",
       " 't',\n",
       " '',\n",
       " 'e',\n",
       " '',\n",
       " 'n',\n",
       " '',\n",
       " 'd',\n",
       " '',\n",
       " 'e',\n",
       " '',\n",
       " 'r',\n",
       " '',\n",
       " ' ',\n",
       " '',\n",
       " 't',\n",
       " '',\n",
       " 'o',\n",
       " '',\n",
       " ' ',\n",
       " '',\n",
       " 'g',\n",
       " '',\n",
       " 'i',\n",
       " '',\n",
       " 'v',\n",
       " '',\n",
       " 'e',\n",
       " '',\n",
       " ' ',\n",
       " '',\n",
       " 'm',\n",
       " '',\n",
       " 'e',\n",
       " '',\n",
       " ' ',\n",
       " '',\n",
       " 'a',\n",
       " '',\n",
       " ' ',\n",
       " '',\n",
       " 'f',\n",
       " '',\n",
       " 'r',\n",
       " '',\n",
       " 'e',\n",
       " '',\n",
       " 'e',\n",
       " '',\n",
       " ' ',\n",
       " '',\n",
       " 'd',\n",
       " '',\n",
       " 'r',\n",
       " '',\n",
       " 'i',\n",
       " '',\n",
       " 'n',\n",
       " '',\n",
       " 'k',\n",
       " '',\n",
       " '.',\n",
       " '',\n",
       " '\"',\n",
       " '',\n",
       " ' ',\n",
       " '',\n",
       " 'L',\n",
       " '',\n",
       " 'i',\n",
       " '',\n",
       " 'n',\n",
       " '',\n",
       " 'c',\n",
       " '',\n",
       " 'o',\n",
       " '',\n",
       " 'l',\n",
       " '',\n",
       " 'n',\n",
       " '',\n",
       " ' ',\n",
       " '',\n",
       " 's',\n",
       " '',\n",
       " 'a',\n",
       " '',\n",
       " 'y',\n",
       " '',\n",
       " 's',\n",
       " '',\n",
       " ',',\n",
       " '',\n",
       " ' ',\n",
       " '',\n",
       " '\"',\n",
       " '',\n",
       " 'I',\n",
       " '',\n",
       " ' ',\n",
       " '',\n",
       " 'a',\n",
       " '',\n",
       " 'm',\n",
       " '',\n",
       " ' ',\n",
       " '',\n",
       " 'i',\n",
       " '',\n",
       " 'n',\n",
       " '',\n",
       " '!',\n",
       " '',\n",
       " '\"',\n",
       " '']"
      ]
     },
     "execution_count": 54,
     "metadata": {},
     "output_type": "execute_result"
    }
   ],
   "source": [
    "pattern=\"(.*?)\"\n",
    "re.findall(pattern, text)"
   ]
  },
  {
   "cell_type": "markdown",
   "metadata": {},
   "source": [
    "### 12. Use a regular expression to find and extract all the numbers from the text below."
   ]
  },
  {
   "cell_type": "code",
   "execution_count": 57,
   "metadata": {},
   "outputs": [],
   "source": [
    "text = \"There were 30 students in the class. Of the 30 students, 14 were male and 16 were female. Only 10 students got A's on the exam.\"\n"
   ]
  },
  {
   "cell_type": "code",
   "execution_count": 59,
   "metadata": {},
   "outputs": [
    {
     "data": {
      "text/plain": [
       "['30', '30', '14', '16', '10']"
      ]
     },
     "execution_count": 59,
     "metadata": {},
     "output_type": "execute_result"
    }
   ],
   "source": [
    "pattern='\\d+'\n",
    "re.findall(pattern, text)"
   ]
  },
  {
   "cell_type": "markdown",
   "metadata": {},
   "source": [
    "### 13. Use a regular expression to find and extract all the social security numbers from the text below."
   ]
  },
  {
   "cell_type": "code",
   "execution_count": 60,
   "metadata": {},
   "outputs": [],
   "source": [
    "text = \"\"\"\n",
    "Henry's social security number is 876-93-2289 and his phone number is (847)789-0984.\n",
    "Darlene's social security number is 098-32-5295 and her phone number is (987)222-0901.\n",
    "\"\"\""
   ]
  },
  {
   "cell_type": "code",
   "execution_count": 61,
   "metadata": {},
   "outputs": [
    {
     "data": {
      "text/plain": [
       "['876-93-2289', '098-32-5295']"
      ]
     },
     "execution_count": 61,
     "metadata": {},
     "output_type": "execute_result"
    }
   ],
   "source": [
    "pattern='\\d{3}-\\d{2}-\\d{4}'\n",
    "re.findall(pattern, text)"
   ]
  },
  {
   "cell_type": "markdown",
   "metadata": {},
   "source": [
    "### 14. Use a regular expression to find and extract all the phone numbers from the text below."
   ]
  },
  {
   "cell_type": "code",
   "execution_count": 62,
   "metadata": {},
   "outputs": [
    {
     "data": {
      "text/plain": [
       "['(847)789-0984', '(987)222-0901']"
      ]
     },
     "execution_count": 62,
     "metadata": {},
     "output_type": "execute_result"
    }
   ],
   "source": [
    "pattern='\\(\\d{3}\\)\\d{3}-\\d{4}'\n",
    "re.findall(pattern, text)"
   ]
  },
  {
   "cell_type": "markdown",
   "metadata": {},
   "source": [
    "### 15. Use a regular expression to find and extract all the formatted numbers (both social security and phone) from the text below."
   ]
  },
  {
   "cell_type": "code",
   "execution_count": 63,
   "metadata": {},
   "outputs": [
    {
     "data": {
      "text/plain": [
       "['876-93-2289', '(847)789-0984', '098-32-5295', '(987)222-0901']"
      ]
     },
     "execution_count": 63,
     "metadata": {},
     "output_type": "execute_result"
    }
   ],
   "source": [
    "pattern='\\\\(\\d{3}\\)\\d{3}-\\d{4}|\\d{3}-\\d{2}-\\d{4}'\n",
    "re.findall(pattern, text)"
   ]
  },
  {
   "cell_type": "code",
   "execution_count": null,
   "metadata": {},
   "outputs": [],
   "source": []
  }
 ],
 "metadata": {
  "kernelspec": {
   "display_name": "Python 3",
   "language": "python",
   "name": "python3"
  },
  "language_info": {
   "codemirror_mode": {
    "name": "ipython",
    "version": 3
   },
   "file_extension": ".py",
   "mimetype": "text/x-python",
   "name": "python",
   "nbconvert_exporter": "python",
   "pygments_lexer": "ipython3",
   "version": "3.8.3"
  }
 },
 "nbformat": 4,
 "nbformat_minor": 2
}
